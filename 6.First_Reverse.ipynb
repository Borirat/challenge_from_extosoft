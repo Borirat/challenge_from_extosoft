{
 "cells": [
  {
   "cell_type": "markdown",
   "metadata": {},
   "source": [
    "6. First Reverse\n",
    "  Have the function FirstReverse(str) take the str parameter being passed and return the\n",
    "string in reversed order. For example: if the input string is “Hello World and Coders” then\n",
    "your program should return the string sredoC dna dlroW olleH."
   ]
  },
  {
   "cell_type": "code",
   "execution_count": null,
   "metadata": {},
   "outputs": [],
   "source": [
    "def FirstReverse(string):\n",
    "    new_string = ''\n",
    "    for i in range(len(string)):\n",
    "        new_string = string[i]+new_string\n",
    "    return new_string"
   ]
  },
  {
   "cell_type": "code",
   "execution_count": null,
   "metadata": {},
   "outputs": [
    {
     "name": "stdout",
     "output_type": "stream",
     "text": [
      "input : programming\n",
      "gnimmargorp\n",
      "input : I Love Code\n",
      "edoC evoL I\n"
     ]
    }
   ],
   "source": [
    "while True:\n",
    "    string = input(\"input : \")\n",
    "    print(FirstReverse(string))"
   ]
  },
  {
   "cell_type": "code",
   "execution_count": null,
   "metadata": {},
   "outputs": [],
   "source": []
  }
 ],
 "metadata": {
  "kernelspec": {
   "display_name": "Python 3",
   "language": "python",
   "name": "python3"
  },
  "language_info": {
   "codemirror_mode": {
    "name": "ipython",
    "version": 3
   },
   "file_extension": ".py",
   "mimetype": "text/x-python",
   "name": "python",
   "nbconvert_exporter": "python",
   "pygments_lexer": "ipython3",
   "version": "3.7.6"
  }
 },
 "nbformat": 4,
 "nbformat_minor": 4
}
