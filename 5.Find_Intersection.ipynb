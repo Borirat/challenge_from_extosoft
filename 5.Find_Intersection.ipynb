{
 "cells": [
  {
   "cell_type": "markdown",
   "metadata": {},
   "source": [
    "5. Find Intersection\n",
    "  Have the function FindIntersection(strArr) read the array of string stored in strArr which\n",
    "will contain 2 elements: the first element will represent a list of comma-separated numbers\n",
    "sorted in ascending order, the second element will represent a second list of commaseparated\n",
    "numbers (also sorted). Your goal is to return a comma-separated string\n",
    "containing the numbers that occur in elements of strArr in sorted order. If there is no\n",
    "intersection, return the string false."
   ]
  },
  {
   "cell_type": "code",
   "execution_count": 19,
   "metadata": {},
   "outputs": [],
   "source": [
    "def FindIntersection(strArr):\n",
    "    intersection = []\n",
    "    strArr1 = strArr[0].split(',')\n",
    "    strArr2 =  strArr[1].split(',')\n",
    "\n",
    "    for i in range(len(strArr1)):\n",
    "        for j in range(len(strArr2)):\n",
    "            if(strArr1[i]==strArr2[j]):\n",
    "                intersection.append(strArr1[i])\n",
    "    if(len(intersection)==0):\n",
    "        return False\n",
    "    else:\n",
    "        return intersection"
   ]
  },
  {
   "cell_type": "code",
   "execution_count": 20,
   "metadata": {},
   "outputs": [
    {
     "name": "stdout",
     "output_type": "stream",
     "text": [
      "['1', ' 4', ' 13']\n"
     ]
    }
   ],
   "source": [
    "strArr = [\"1, 3, 4, 7, 13\", \"1, 2, 4, 13, 15\"]\n",
    "print(FindIntersection(strArr))"
   ]
  },
  {
   "cell_type": "code",
   "execution_count": 21,
   "metadata": {},
   "outputs": [
    {
     "name": "stdout",
     "output_type": "stream",
     "text": [
      "['1', ' 9', ' 10']\n"
     ]
    }
   ],
   "source": [
    "strArr = [\"1, 3, 9, 10, 17, 18\", \"1, 4, 9, 10\"]\n",
    "print(FindIntersection(strArr))"
   ]
  },
  {
   "cell_type": "code",
   "execution_count": 23,
   "metadata": {},
   "outputs": [
    {
     "name": "stdout",
     "output_type": "stream",
     "text": [
      "False\n"
     ]
    }
   ],
   "source": [
    "strArr = [\"5, 17, 18\", \"1, 4, 9, 10\"]\n",
    "print(FindIntersection(strArr))"
   ]
  },
  {
   "cell_type": "code",
   "execution_count": null,
   "metadata": {},
   "outputs": [],
   "source": []
  }
 ],
 "metadata": {
  "kernelspec": {
   "display_name": "Python 3",
   "language": "python",
   "name": "python3"
  },
  "language_info": {
   "codemirror_mode": {
    "name": "ipython",
    "version": 3
   },
   "file_extension": ".py",
   "mimetype": "text/x-python",
   "name": "python",
   "nbconvert_exporter": "python",
   "pygments_lexer": "ipython3",
   "version": "3.7.6"
  }
 },
 "nbformat": 4,
 "nbformat_minor": 4
}
