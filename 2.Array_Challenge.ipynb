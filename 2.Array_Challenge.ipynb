{
 "cells": [
  {
   "cell_type": "markdown",
   "metadata": {},
   "source": [
    "2. Array Challenge\n",
    "  Have the function ArrayChallenge(arr) take the array of numbers stored in arr and\n",
    "determine the total number of duplicate entries. For example if the input is [1, 2, 2, 3] then\n",
    "your program should output 3 because there are two duplicates of one of the elements."
   ]
  },
  {
   "cell_type": "code",
   "execution_count": 46,
   "metadata": {},
   "outputs": [],
   "source": [
    "def ArrayChallenge(arr):\n",
    "    duplicates = 0\n",
    "    duplicates_list = []\n",
    "    for i in range(len(arr)):\n",
    "        for j in range(len(arr)):\n",
    "            break_status = 0\n",
    "            if(i == j):\n",
    "                continue\n",
    "            if(arr[j] == arr[i]):\n",
    "#                 if(arr[j] in duplicates_list):\n",
    "#                     break\n",
    "#                 else:\n",
    "#                     duplicates+=1\n",
    "#                     duplicates_list.append(arr[j])\n",
    "                if(len(duplicates_list)==0):\n",
    "                    duplicates_list.append(arr[j])\n",
    "                    duplicates+=1\n",
    "                for k in range(len(duplicates_list)):\n",
    "                    if(arr[j] ==duplicates_list[k] ):\n",
    "                        break_status = 1\n",
    "                        break\n",
    "                if(break_status==1):\n",
    "                    break\n",
    "                else:\n",
    "                    duplicates+=1\n",
    "                    duplicates_list.append(arr[j])\n",
    "    return  duplicates"
   ]
  },
  {
   "cell_type": "code",
   "execution_count": 49,
   "metadata": {},
   "outputs": [
    {
     "name": "stdout",
     "output_type": "stream",
     "text": [
      "1\n"
     ]
    }
   ],
   "source": [
    "arr = [1,2,2,3]\n",
    "print(ArrayChallenge(arr))"
   ]
  },
  {
   "cell_type": "code",
   "execution_count": 47,
   "metadata": {},
   "outputs": [
    {
     "name": "stdout",
     "output_type": "stream",
     "text": [
      "2\n"
     ]
    }
   ],
   "source": [
    "arr = [0, -2, -2, 5, 5, 5]\n",
    "print(ArrayChallenge(arr))"
   ]
  },
  {
   "cell_type": "code",
   "execution_count": 48,
   "metadata": {},
   "outputs": [
    {
     "name": "stdout",
     "output_type": "stream",
     "text": [
      "0\n"
     ]
    }
   ],
   "source": [
    "arr = [100, 2, 101, 4]\n",
    "print(ArrayChallenge(arr))"
   ]
  },
  {
   "cell_type": "code",
   "execution_count": 56,
   "metadata": {},
   "outputs": [],
   "source": [
    "def ArrayChallenge2(arr):\n",
    "    array = arr\n",
    "    duplicates = 0\n",
    "    index_found = []\n",
    "    for i in range(len(array)):\n",
    "        for j in range(i+1,len(array)):\n",
    "            if(j in index_found):\n",
    "                continue\n",
    "            if(array[i]==array[j]):\n",
    "                duplicates+=1\n",
    "                index_found.append(j)\n",
    "              \n",
    "    return  duplicates"
   ]
  },
  {
   "cell_type": "code",
   "execution_count": 57,
   "metadata": {},
   "outputs": [
    {
     "name": "stdout",
     "output_type": "stream",
     "text": [
      "1\n"
     ]
    }
   ],
   "source": [
    "arr = [1,2,2,3]\n",
    "print(ArrayChallenge2(arr))"
   ]
  },
  {
   "cell_type": "code",
   "execution_count": 58,
   "metadata": {},
   "outputs": [
    {
     "name": "stdout",
     "output_type": "stream",
     "text": [
      "2\n"
     ]
    }
   ],
   "source": [
    "arr = [1,2,2,2,3]\n",
    "print(ArrayChallenge2(arr))"
   ]
  },
  {
   "cell_type": "code",
   "execution_count": 59,
   "metadata": {},
   "outputs": [
    {
     "name": "stdout",
     "output_type": "stream",
     "text": [
      "3\n"
     ]
    }
   ],
   "source": [
    "arr = [0, -2, -2, 5, 5, 5]\n",
    "print(ArrayChallenge2(arr))"
   ]
  },
  {
   "cell_type": "code",
   "execution_count": 60,
   "metadata": {},
   "outputs": [
    {
     "name": "stdout",
     "output_type": "stream",
     "text": [
      "0\n"
     ]
    }
   ],
   "source": [
    "arr = [100, 2, 101, 4]\n",
    "print(ArrayChallenge2(arr))"
   ]
  },
  {
   "cell_type": "code",
   "execution_count": null,
   "metadata": {},
   "outputs": [],
   "source": []
  }
 ],
 "metadata": {
  "kernelspec": {
   "display_name": "Python 3",
   "language": "python",
   "name": "python3"
  },
  "language_info": {
   "codemirror_mode": {
    "name": "ipython",
    "version": 3
   },
   "file_extension": ".py",
   "mimetype": "text/x-python",
   "name": "python",
   "nbconvert_exporter": "python",
   "pygments_lexer": "ipython3",
   "version": "3.7.6"
  }
 },
 "nbformat": 4,
 "nbformat_minor": 4
}
