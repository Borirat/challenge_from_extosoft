{
 "cells": [
  {
   "cell_type": "markdown",
   "metadata": {},
   "source": [
    "3. String Challenge\n",
    "  Have the function StringChallenge(strArr) read the array of strings stored in strArr, which\n",
    "will contain two elements, the first some sort of string and the second element will be a\n",
    "number ranging from 1 to 6. The number represents how many rows to print the string on\n",
    "so that it forms a zig-zag pattern. For example: if strArr is [“programming”, “3”] then this\n",
    "word will look like the following if you print it in a zig-zag pattern with 3 rows:"
   ]
  },
  {
   "cell_type": "code",
   "execution_count": 1,
   "metadata": {},
   "outputs": [],
   "source": [
    "def StringChallenge(strArr):\n",
    "    num = int(strArr[1])\n",
    "    word_list = []\n",
    "    word_each_line = []\n",
    "    count = 0\n",
    "    count_state = 0\n",
    "    space = []\n",
    "    for i in range(num):\n",
    "        tmp_space = ''\n",
    "        for j in range(i):\n",
    "            tmp_space+='   '\n",
    "        word_each_line.append(tmp_space)\n",
    "        word_list.append('')\n",
    "    for i in range(num-1):\n",
    "        tmp_space = ''\n",
    "        for j in range(i*2+1):\n",
    "            tmp_space+='   '\n",
    "        space.append(tmp_space)\n",
    "    space.reverse()\n",
    "    for i in range(len(strArr[0])):\n",
    "        word_list[count]+=strArr[0][i]\n",
    "        word_each_line[count]+=strArr[0][i]+space[i%(num-1)]\n",
    "        if(count_state==0):\n",
    "            count+=1\n",
    "        else:\n",
    "            count-=1\n",
    "        if(count==num):\n",
    "            count-=2\n",
    "            count_state = 1\n",
    "        elif(count== -1):\n",
    "            count+=2\n",
    "            count_state = 0\n",
    "    \n",
    "    word = ''\n",
    "    #print(word_each_line)\n",
    "    for i in range(num):\n",
    "        print(word_each_line[i])\n",
    "        word+=word_list[i]\n",
    "    print(word)\n",
    "    \n",
    "        "
   ]
  },
  {
   "cell_type": "code",
   "execution_count": 2,
   "metadata": {},
   "outputs": [
    {
     "name": "stdout",
     "output_type": "stream",
     "text": [
      "p         r         i         \n",
      "   r   g   a   m   n   \n",
      "      o         m         g         \n",
      "prirgamnomg\n"
     ]
    }
   ],
   "source": [
    "strArr =[\"programming\", \"3\"]\n",
    "StringChallenge(strArr)"
   ]
  },
  {
   "cell_type": "code",
   "execution_count": 3,
   "metadata": {},
   "outputs": [
    {
     "name": "stdout",
     "output_type": "stream",
     "text": [
      "c   t   \n",
      "   a   \n",
      "cta\n"
     ]
    }
   ],
   "source": [
    "strArr =[\"cat\", \"2\"]\n",
    "StringChallenge(strArr)"
   ]
  },
  {
   "cell_type": "code",
   "execution_count": 4,
   "metadata": {},
   "outputs": [
    {
     "name": "stdout",
     "output_type": "stream",
     "text": [
      "k               j               \n",
      "   a         j   f         \n",
      "      a   v         l   \n",
      "         m               \n",
      "kjajfavlm\n"
     ]
    }
   ],
   "source": [
    "strArr =[\"kaamvjjfl\", \"4\"]\n",
    "StringChallenge(strArr)"
   ]
  },
  {
   "cell_type": "code",
   "execution_count": null,
   "metadata": {},
   "outputs": [],
   "source": []
  }
 ],
 "metadata": {
  "kernelspec": {
   "display_name": "Python 3",
   "language": "python",
   "name": "python3"
  },
  "language_info": {
   "codemirror_mode": {
    "name": "ipython",
    "version": 3
   },
   "file_extension": ".py",
   "mimetype": "text/x-python",
   "name": "python",
   "nbconvert_exporter": "python",
   "pygments_lexer": "ipython3",
   "version": "3.7.6"
  }
 },
 "nbformat": 4,
 "nbformat_minor": 4
}
