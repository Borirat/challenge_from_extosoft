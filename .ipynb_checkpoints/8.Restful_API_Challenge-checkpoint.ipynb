{
 "cells": [
  {
   "cell_type": "markdown",
   "metadata": {},
   "source": [
    "8. Restful API Challenge\n",
    "  Write a Restful API program to Gets a list of books from an external book publisher’s web\n",
    "services and returns the list sorted alphabetically with the recommended books always\n",
    "appears first. The should be no duplicated books in the list."
   ]
  },
  {
   "cell_type": "code",
   "execution_count": 5,
   "metadata": {},
   "outputs": [],
   "source": [
    "##set FLASK_APP=Name\n",
    "##flask run\n",
    "\n",
    "from flask import Flask\n",
    "import requests\n",
    "import json\n",
    "\n",
    "app = Flask(__name__)\n",
    "\n",
    "@app.route('/')\n",
    "def index():\n",
    "    return 'Index Page'\n",
    "\n",
    "@app.route('/book_list')\n",
    "def book_list():\n",
    "    book_list = []\n",
    "    recommend = requests.get(\"http://35.186.153.190:1323/books/recommend\")\n",
    "    recommend_json = recommend.json()\n",
    "\n",
    "    num_book_recommend = len(recommend_json)\n",
    "    \n",
    "    for book in recommend_json:\n",
    "        if(len(book_list)==0):\n",
    "            book_list.append(book)\n",
    "        else:\n",
    "            \n",
    "            for num_book in range(len(book_list)):\n",
    "                if(book in book_list):\n",
    "                    break\n",
    "                else:\n",
    "                    if(book['book_name'][0].lower()<book_list[num_book]['book_name'][0].lower()):\n",
    "                        book_list.insert(num_book,book)\n",
    "                        break\n",
    "                    elif(book['book_name'][0].lower()==book_list[num_book]['book_name'][0].lower()):\n",
    "                        book_list.insert(num_book+1,book)\n",
    "                        break\n",
    "                    if(num_book==len(book_list)-1):\n",
    "                        book_list.append(book)\n",
    "    from_web = requests.get(\"http://35.186.153.190:1323/books\")\n",
    "    from_web_json = from_web.json()\n",
    "    \n",
    "    for book in from_web_json:\n",
    "        if(len(book_list)==num_book_recommend):\n",
    "            book_list.append(book)\n",
    "        else:\n",
    "            \n",
    "            for num_book in range(num_book_recommend,len(book_list)):\n",
    "                if(book in book_list):\n",
    "                    break\n",
    "                else:\n",
    "                    if(book['book_name'][0].lower()<book_list[num_book]['book_name'][0].lower()):\n",
    "                        book_list.insert(num_book,book)\n",
    "                        break\n",
    "                    elif(book['book_name'][0].lower()==book_list[num_book]['book_name'][0].lower()):\n",
    "                        book_list.insert(num_book+1,book)\n",
    "                        break\n",
    "                    if(num_book==len(book_list)-1):\n",
    "                        book_list.append(book)\n",
    "                    \n",
    "    return \"<p>\"+json.dumps(book_list)+\"</p>\"\n",
    "\n"
   ]
  },
  {
   "cell_type": "code",
   "execution_count": null,
   "metadata": {},
   "outputs": [],
   "source": []
  }
 ],
 "metadata": {
  "kernelspec": {
   "display_name": "Python 3",
   "language": "python",
   "name": "python3"
  },
  "language_info": {
   "codemirror_mode": {
    "name": "ipython",
    "version": 3
   },
   "file_extension": ".py",
   "mimetype": "text/x-python",
   "name": "python",
   "nbconvert_exporter": "python",
   "pygments_lexer": "ipython3",
   "version": "3.7.6"
  }
 },
 "nbformat": 4,
 "nbformat_minor": 4
}
