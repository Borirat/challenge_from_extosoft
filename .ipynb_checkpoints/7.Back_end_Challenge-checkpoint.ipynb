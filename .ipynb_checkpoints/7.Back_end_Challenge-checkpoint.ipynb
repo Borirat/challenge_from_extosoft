{
 "cells": [
  {
   "cell_type": "markdown",
   "metadata": {},
   "source": [
    "7. Back-end Challenge\n",
    "  Write a program to perform a GET request on the route\n",
    "https://coderbyte.com/api/challenges/json/rest-get-simple and then print to the console\n",
    "the hobbies property in the following format: ITEM1, ITEM2, …"
   ]
  },
  {
   "cell_type": "code",
   "execution_count": 1,
   "metadata": {},
   "outputs": [
    {
     "name": "stdout",
     "output_type": "stream",
     "text": [
      "running, coding, camping\n"
     ]
    }
   ],
   "source": [
    "import requests\n",
    "response = requests.get(\"https://coderbyte.com/api/challenges/json/rest-get-simple\")\n",
    "response_json = response.json()\n",
    "hobbies = response_json['hobbies']\n",
    "#print(response_dict)\n",
    "str_hobbies = ''.join([\"%s, \" % (hobby) for hobby in hobbies])\n",
    "print(str_hobbies[:-2])"
   ]
  },
  {
   "cell_type": "code",
   "execution_count": null,
   "metadata": {},
   "outputs": [],
   "source": []
  }
 ],
 "metadata": {
  "kernelspec": {
   "display_name": "Python 3",
   "language": "python",
   "name": "python3"
  },
  "language_info": {
   "codemirror_mode": {
    "name": "ipython",
    "version": 3
   },
   "file_extension": ".py",
   "mimetype": "text/x-python",
   "name": "python",
   "nbconvert_exporter": "python",
   "pygments_lexer": "ipython3",
   "version": "3.7.6"
  }
 },
 "nbformat": 4,
 "nbformat_minor": 4
}
