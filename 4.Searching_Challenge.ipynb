{
 "cells": [
  {
   "cell_type": "markdown",
   "metadata": {},
   "source": [
    "4. Searching Challenge\n",
    "  Have the function SearchingChallenge(str) take the str parameter being passed and\n",
    "determine if the string is a valid username according to the following rules:\n",
    "1. The username is between 4 and 25 characters.\n",
    "2. It must start with a letter.\n",
    "3. It can only contain letters, numbers, and the underscore character.\n",
    "4. It cannont end with an underscore character.\n",
    "If the username is valid then your program should return the string true, otherwise return\n",
    "the string false."
   ]
  },
  {
   "cell_type": "code",
   "execution_count": 1,
   "metadata": {},
   "outputs": [],
   "source": [
    "import re\n",
    "def SearchingChallenge(string):\n",
    "    if(len(string)<4 or len(string)>25):\n",
    "        return False\n",
    "    if not( re.search(r'[a-z]',string[0]) ):\n",
    "        return False\n",
    "    if (re.search(r'[A-Z]',string)):\n",
    "        return False\n",
    "    if (re.search(r'\\W',string)):\n",
    "        if not(re.search(r'[_]',string[0])):\n",
    "            return False\n",
    "    if (re.search(r'[_]',string[-1])):\n",
    "        return False\n",
    "    return True"
   ]
  },
  {
   "cell_type": "code",
   "execution_count": null,
   "metadata": {},
   "outputs": [
    {
     "name": "stdout",
     "output_type": "stream",
     "text": [
      "input : a1\n",
      "False\n"
     ]
    }
   ],
   "source": [
    "while True:\n",
    "    string = input('input : ')\n",
    "    print(SearchingChallenge(string))"
   ]
  },
  {
   "cell_type": "code",
   "execution_count": null,
   "metadata": {},
   "outputs": [],
   "source": []
  }
 ],
 "metadata": {
  "kernelspec": {
   "display_name": "Python 3",
   "language": "python",
   "name": "python3"
  },
  "language_info": {
   "codemirror_mode": {
    "name": "ipython",
    "version": 3
   },
   "file_extension": ".py",
   "mimetype": "text/x-python",
   "name": "python",
   "nbconvert_exporter": "python",
   "pygments_lexer": "ipython3",
   "version": "3.7.6"
  }
 },
 "nbformat": 4,
 "nbformat_minor": 4
}
