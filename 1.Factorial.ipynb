{
 "cells": [
  {
   "cell_type": "markdown",
   "metadata": {},
   "source": [
    "1. First Factorial\n",
    "  Have the function FirstFactorial(num) take the num parameter being passed and return the\n",
    "factorial of it. For example: if num = 4, then your program should return (4 * 3 * 2 * 1) = 24.\n",
    "For the test cases, the range will be between 1 and 18 and the input will always be an\n",
    "integer."
   ]
  },
  {
   "cell_type": "code",
   "execution_count": 1,
   "metadata": {},
   "outputs": [],
   "source": [
    "class math_for_test:\n",
    "    def __init__(self):\n",
    "        pass\n",
    "    \n",
    "    def FirstFactorial(self,num):\n",
    "        if(num>1):\n",
    "            return num*self.FirstFactorial(num-1)\n",
    "        else:\n",
    "            return 1"
   ]
  },
  {
   "cell_type": "code",
   "execution_count": null,
   "metadata": {},
   "outputs": [
    {
     "name": "stdout",
     "output_type": "stream",
     "text": [
      "input between 1 and 18 : 0\n",
      "input between 1 and 18 : 19\n",
      "input between 1 and 18 : 20\n",
      "input between 1 and 18 : 5\n",
      "120\n"
     ]
    }
   ],
   "source": [
    "while True:\n",
    "    try:\n",
    "        while True:\n",
    "            num = int(input('input between 1 and 18 : '))\n",
    "            if(num > 0 and num <19):\n",
    "                break\n",
    "    except:\n",
    "        print(\"it's not integer\")\n",
    "        num = int(input('input between 1 and 18 : '))\n",
    "    math = math_for_test()\n",
    "    print(math.FirstFactorial(num))"
   ]
  },
  {
   "cell_type": "code",
   "execution_count": null,
   "metadata": {},
   "outputs": [],
   "source": []
  }
 ],
 "metadata": {
  "kernelspec": {
   "display_name": "Python 3",
   "language": "python",
   "name": "python3"
  },
  "language_info": {
   "codemirror_mode": {
    "name": "ipython",
    "version": 3
   },
   "file_extension": ".py",
   "mimetype": "text/x-python",
   "name": "python",
   "nbconvert_exporter": "python",
   "pygments_lexer": "ipython3",
   "version": "3.7.6"
  }
 },
 "nbformat": 4,
 "nbformat_minor": 4
}
